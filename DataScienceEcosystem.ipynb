{
 "cells": [
  {
   "cell_type": "markdown",
   "id": "3ac7e609-a0a5-4aaa-98f8-e683e0319476",
   "metadata": {},
   "source": [
    "Data Science Tools and Ecosystem"
   ]
  },
  {
   "cell_type": "markdown",
   "id": "6a5e9217-a131-4b6a-928e-364c60a11e2d",
   "metadata": {},
   "source": [
    "In this notebook, Data Science Tools and Ecosystem are summarized."
   ]
  },
  {
   "cell_type": "markdown",
   "id": "506666a4-c5b9-49cd-a45a-589191072521",
   "metadata": {},
   "source": [
    "Some of the popular languages that Data Scientists use are:\n"
   ]
  },
  {
   "cell_type": "markdown",
   "id": "09b1751e-1bfe-4ff6-a0fc-15187d73b11a",
   "metadata": {},
   "source": [
    "Order list          Language"
   ]
  },
  {
   "cell_type": "markdown",
   "id": "c094b65e-41b9-433c-b863-6568da831f9b",
   "metadata": {},
   "source": [
    "1 Python"
   ]
  },
  {
   "cell_type": "markdown",
   "id": "2514bfb5-4395-47f1-ac34-7e3b889c0a0b",
   "metadata": {},
   "source": [
    "2 SQL"
   ]
  },
  {
   "cell_type": "markdown",
   "id": "14b465ec-e53d-4cca-b2a2-b817c2669dbb",
   "metadata": {},
   "source": [
    "3 R"
   ]
  },
  {
   "cell_type": "markdown",
   "id": "0ac7002f-a259-4bb0-ae32-2800560f202a",
   "metadata": {},
   "source": [
    "4 JAVA"
   ]
  },
  {
   "cell_type": "markdown",
   "id": "efb1bcb7-3fee-4edd-bf85-2cfea37f3915",
   "metadata": {},
   "source": [
    "Some of the commonly used libraries used by Data Scientists include:"
   ]
  },
  {
   "cell_type": "markdown",
   "id": "da320796-437d-4da9-a243-8db074ea0429",
   "metadata": {},
   "source": [
    "ordered list     Libraries"
   ]
  },
  {
   "cell_type": "markdown",
   "id": "0f189293-6ef9-4edd-add6-442aa39029c4",
   "metadata": {},
   "source": [
    "1 NumPy"
   ]
  },
  {
   "cell_type": "markdown",
   "id": "87ca1dd2-c59c-486f-9c1d-574064130fa0",
   "metadata": {},
   "source": [
    "2 Keras"
   ]
  },
  {
   "cell_type": "markdown",
   "id": "66b22342-1802-434d-8aba-e747af6c183e",
   "metadata": {},
   "source": [
    "3 Pandas"
   ]
  },
  {
   "cell_type": "markdown",
   "id": "3df65e38-d648-45f6-be39-5bab86bb48d9",
   "metadata": {},
   "source": [
    "4 Tensorflow"
   ]
  },
  {
   "cell_type": "markdown",
   "id": "d7d52af9-d01b-44bf-b457-3618a76d9e6d",
   "metadata": {},
   "source": [
    "# Table"
   ]
  },
  {
   "cell_type": "markdown",
   "id": "49ee2461-a67a-4b20-81b1-6a966e6a8cc7",
   "metadata": {},
   "source": [
    "|Data Science Tool|\n",
    "|-------|\n",
    "|Python|\n",
    "|Tensorflow|\n",
    "|jupyter notebook|"
   ]
  },
  {
   "cell_type": "markdown",
   "id": "b7319859-239f-4291-9f78-31010ff4f12c",
   "metadata": {},
   "source": [
    "arithmetic expression examples"
   ]
  },
  {
   "cell_type": "markdown",
   "id": "ad7daedd-4f58-49cf-80f0-9fd5075cfaa3",
   "metadata": {},
   "source": [
    "$ 5+2 $  \n",
    "$ 8-4 $  \n",
    "$ 7*9 $"
   ]
  },
  {
   "cell_type": "markdown",
   "id": "90e0aeb1-4116-4046-84a0-834c262bff54",
   "metadata": {},
   "source": [
    "This a simple arithmetic expression to mutiply then add integers"
   ]
  },
  {
   "cell_type": "code",
   "execution_count": 40,
   "id": "912bb7ed-03d9-4dbd-8463-25ce7ea4dee4",
   "metadata": {},
   "outputs": [
    {
     "name": "stdout",
     "output_type": "stream",
     "text": [
      "17\n"
     ]
    }
   ],
   "source": [
    "a = (3*4)+5\n",
    "print(a)"
   ]
  },
  {
   "cell_type": "markdown",
   "id": "73c2aebf-c1f4-44d7-9fcc-578e475e95fd",
   "metadata": {},
   "source": [
    "This will convert 200 minutes to hours by diving by 60"
   ]
  },
  {
   "cell_type": "code",
   "execution_count": 43,
   "id": "11f1762e-3b60-4058-8198-bdf37b87e6fe",
   "metadata": {},
   "outputs": [
    {
     "name": "stdout",
     "output_type": "stream",
     "text": [
      "3.3333333333333335\n"
     ]
    }
   ],
   "source": [
    "a= 200/60\n",
    "print(a)"
   ]
  },
  {
   "cell_type": "markdown",
   "id": "48c810b4-5daa-40ba-b7be-e70176343222",
   "metadata": {},
   "source": [
    "Author"
   ]
  },
  {
   "cell_type": "markdown",
   "id": "db43d6d9-fae2-4768-8642-c8b91720d847",
   "metadata": {},
   "source": [
    "Lakshmi Holla"
   ]
  },
  {
   "cell_type": "markdown",
   "id": "8629f616-afa2-437b-b4fc-7fc138a80dfa",
   "metadata": {},
   "source": [
    "Niveditha Pandith"
   ]
  },
  {
   "cell_type": "code",
   "execution_count": null,
   "id": "ed3c6abe-e4af-44f0-8ea9-db9560eb07e7",
   "metadata": {},
   "outputs": [],
   "source": []
  }
 ],
 "metadata": {
  "kernelspec": {
   "display_name": "anaconda-panel-2023.05-py310",
   "language": "python",
   "name": "conda-env-anaconda-panel-2023.05-py310-py"
  },
  "language_info": {
   "codemirror_mode": {
    "name": "ipython",
    "version": 3
   },
   "file_extension": ".py",
   "mimetype": "text/x-python",
   "name": "python",
   "nbconvert_exporter": "python",
   "pygments_lexer": "ipython3",
   "version": "3.11.5"
  }
 },
 "nbformat": 4,
 "nbformat_minor": 5
}
